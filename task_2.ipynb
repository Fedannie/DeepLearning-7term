{
 "cells": [
  {
   "cell_type": "markdown",
   "metadata": {},
   "source": [
    "## Assigment: Neural network basics"
   ]
  },
  {
   "cell_type": "markdown",
   "metadata": {},
   "source": [
    "Soft deadline: 16.09.18 at 23.59\n",
    "\n",
    "Hard deadline: 18.09.18 at 23.59"
   ]
  },
  {
   "cell_type": "markdown",
   "metadata": {},
   "source": [
    "For this task I intentionally provide no boilerplate code, because very puprpose of this task is getting you comforatable with basic code template for desiging NNs in pytorch. I higly recommend you to revisit all the last seminar materials."
   ]
  },
  {
   "cell_type": "markdown",
   "metadata": {},
   "source": [
    "#### Task\n",
    "\n",
    "* Implement simple **fully-convolutional** neural architecture for classification. Make sure it is small enought to run on your home machine.\n",
    "* Provide dataset visulization.\n",
    "* Provide train/test split and validation\n",
    "\n",
    "#### Requirements\n",
    "\n",
    "* Architecture should derive from `torch.nn.Module`\n",
    "* Use `torch.utils.data.Dataset` and `torch.utils.data.DataLoader`. But if you manage co simplify this step using dataset `torchivision`, I will only encourage you.\n",
    "* Implement at least one data transformer, but make sure it is useful for classification task.\n",
    "* Use FashionMNIST dataset https://github.com/zalandoresearch/fashion-mnist\n",
    "* Make sure you can fix random seed for all components of your code to make experiments reproducible\n",
    "* Since you architecure should be fully-convolutional, make sure it does not depend on input size."
   ]
  },
  {
   "cell_type": "code",
   "execution_count": 61,
   "metadata": {},
   "outputs": [],
   "source": [
    "%matplotlib inline\n",
    "import matplotlib.pyplot as plt\n",
    "\n",
    "import torch\n",
    "from torchvision.datasets import FashionMNIST\n",
    "from torchvision.transforms import ToTensor\n",
    "from torch.autograd import Variable\n",
    "from torch.utils.data import DataLoader\n",
    "from torch.nn.functional import relu\n",
    "from torch.nn import Module, Dropout, Conv2d, BatchNorm1d, BatchNorm2d, MaxPool2d, Linear, CrossEntropyLoss\n",
    "from torch.optim import Adam\n",
    "from torch.nn.modules.activation import ReLU\n",
    "\n",
    "import numpy as np"
   ]
  },
  {
   "cell_type": "code",
   "execution_count": 88,
   "metadata": {},
   "outputs": [],
   "source": [
    "torch.manual_seed(0)\n",
    "datafolder = './data'\n",
    "train_dataset = FashionMNIST(datafolder, train=True, \n",
    "                             download=True, transform=ToTensor())\n",
    "test_dataset = FashionMNIST(datafolder, train=False, \n",
    "                            download=True, transform=ToTensor())"
   ]
  },
  {
   "cell_type": "code",
   "execution_count": 55,
   "metadata": {},
   "outputs": [
    {
     "name": "stdout",
     "output_type": "stream",
     "text": [
      "Dataset FashionMNIST\n",
      "    Number of datapoints: 60000\n",
      "    Split: train\n",
      "    Root Location: ./data\n",
      "    Transforms (if any): ToTensor()\n",
      "    Target Transforms (if any): None\n",
      "Dataset FashionMNIST\n",
      "    Number of datapoints: 10000\n",
      "    Split: test\n",
      "    Root Location: ./data\n",
      "    Transforms (if any): ToTensor()\n",
      "    Target Transforms (if any): None\n"
     ]
    }
   ],
   "source": [
    "print(train_dataset)\n",
    "print(test_dataset)"
   ]
  },
  {
   "cell_type": "code",
   "execution_count": 64,
   "metadata": {},
   "outputs": [],
   "source": [
    "batch_size=100\n",
    "train_loader = DataLoader(dataset=train_dataset, \n",
    "                          batch_size=batch_size, shuffle=True)\n",
    "test_loader = DataLoader(dataset=test_dataset, \n",
    "                         batch_size=batch_size, shuffle=False)"
   ]
  },
  {
   "cell_type": "code",
   "execution_count": 102,
   "metadata": {},
   "outputs": [],
   "source": [
    "class CNNModel(Module):\n",
    "    padding = 1\n",
    "    kernel = 3\n",
    "    batch_kernel = 2\n",
    "    \n",
    "    def __init__ (self, output_dim=10):\n",
    "        super(CNNModel, self).__init__()\n",
    "        \n",
    "        self.conv = torch.nn.Sequential(\n",
    "            Conv2d(in_channels=1, out_channels=16, \n",
    "                   kernel_size=self.kernel, padding=self.padding),\n",
    "            BatchNorm2d(16),\n",
    "            MaxPool2d(kernel_size=self.batch_kernel),\n",
    "            ReLU(),\n",
    "            Conv2d(in_channels=16, out_channels=32, \n",
    "                   kernel_size=self.kernel, padding=self.padding),\n",
    "            BatchNorm2d(32),\n",
    "            MaxPool2d(kernel_size=self.batch_kernel),\n",
    "            ReLU(),\n",
    "            Conv2d(in_channels=32,out_channels=64, \n",
    "                   kernel_size=self.kernel, padding=self.padding),\n",
    "            Dropout(),\n",
    "            BatchNorm2d(64),\n",
    "            MaxPool2d(kernel_size=self.batch_kernel),\n",
    "            ReLU()\n",
    "        )\n",
    "        \n",
    "        self.fc = torch.nn.Sequential(\n",
    "            Linear(64 * 3 * 3, 50),\n",
    "            BatchNorm1d(50),\n",
    "            ReLU(),\n",
    "            Dropout(),\n",
    "            Linear(50, 10)\n",
    "        )\n",
    "        \n",
    "    def forward(self, x):\n",
    "        x = self.conv.forward(x)\n",
    "        x = x.view(-1, 64 * 3 * 3)\n",
    "        return self.fc.forward(x)"
   ]
  },
  {
   "cell_type": "code",
   "execution_count": 115,
   "metadata": {},
   "outputs": [],
   "source": [
    "def train(model, loss, optimizer, x_val, y_val):\n",
    "    x = Variable(x_val, requires_grad=False)\n",
    "    y = Variable(y_val, requires_grad=False)\n",
    "\n",
    "    optimizer.zero_grad()\n",
    "    fx = model.forward(x)\n",
    "    \n",
    "    output = loss.forward(fx, y)\n",
    "    output.backward()\n",
    "    optimizer.step()\n",
    "    \n",
    "def predict(model, x_val):\n",
    "    x = Variable(x_val, requires_grad=False)\n",
    "    output = model.forward(x)\n",
    "    return output.data.numpy().argmax(axis=1)\n",
    "\n",
    "def count_loss(model, loss, dataset):\n",
    "    with torch.no_grad():\n",
    "        total = 0\n",
    "        for in_batch, out_batch in dataset:\n",
    "            total += loss.forward(model.forward(in_batch), out_batch).item()\n",
    "    return total / len(dataset.dataset)"
   ]
  },
  {
   "cell_type": "code",
   "execution_count": 121,
   "metadata": {},
   "outputs": [
    {
     "name": "stderr",
     "output_type": "stream",
     "text": [
      "/home/fedannie/anaconda3/lib/python3.6/site-packages/torch/nn/functional.py:52: UserWarning: size_average and reduce args will be deprecated, please use reduction='elementwise_mean' instead.\n",
      "  warnings.warn(warning.format(ret))\n"
     ]
    },
    {
     "name": "stdout",
     "output_type": "stream",
     "text": [
      "Epoch 1, acc = 82%, \n",
      "Epoch 2, acc = 85%, \n",
      "Epoch 3, acc = 86%, \n",
      "Epoch 4, acc = 86%, \n",
      "Epoch 5, acc = 86%, \n",
      "Epoch 6, acc = 87%, \n",
      "Epoch 7, acc = 87%, \n",
      "Epoch 8, acc = 87%, \n",
      "Epoch 9, acc = 87%, \n",
      "Epoch 10, acc = 88%, \n",
      "Epoch 11, acc = 87%, \n",
      "Epoch 12, acc = 88%, \n",
      "Epoch 13, acc = 87%, \n",
      "Epoch 14, acc = 88%, \n",
      "Epoch 15, acc = 88%, \n",
      "Epoch 16, acc = 88%, \n",
      "Epoch 17, acc = 88%, \n",
      "Epoch 18, acc = 87%, \n",
      "Epoch 19, acc = 88%, \n",
      "Epoch 20, acc = 88%, \n",
      "Epoch 21, acc = 88%, \n",
      "Epoch 22, acc = 88%, \n",
      "Epoch 23, acc = 89%, \n",
      "Epoch 24, acc = 89%, \n",
      "Epoch 25, acc = 89%, \n",
      "Epoch 26, acc = 89%, \n",
      "Epoch 27, acc = 89%, \n",
      "Epoch 28, acc = 88%, \n",
      "Epoch 29, acc = 89%, \n",
      "Epoch 30, acc = 89%, \n"
     ]
    },
    {
     "data": {
      "image/png": "[encoded data removed]",
      "text/plain": [
       "<Figure size 432x288 with 1 Axes>"
      ]
     },
     "metadata": {},
     "output_type": "display_data"
    },
    {
     "data": {
      "image/png": "[encoded data removed]",
      "text/plain": [
       "<Figure size 432x288 with 1 Axes>"
      ]
     },
     "metadata": {},
     "output_type": "display_data"
    }
   ],
   "source": [
    "model = CNNModel(output_dim=10)\n",
    "loss = CrossEntropyLoss(size_average=True)\n",
    "optimizer = Adam(model.parameters(), lr=0.01)\n",
    "n_epochs = 30\n",
    "accuracy = []\n",
    "train_losses = []\n",
    "test_losses = []\n",
    "\n",
    "for i in range(n_epochs):\n",
    "    for input_batch, output_batch in train_loader:\n",
    "        train(model, loss, optimizer, input_batch, output_batch)\n",
    "    acc = 0\n",
    "    for input_batch, output_batch in test_loader:\n",
    "        predicted = predict(model, input_batch)\n",
    "        acc += torch.sum(predicted == output_batch)\n",
    "    accuracy.append(100. * acc / len(test_loader.dataset))\n",
    "    train_losses.append(count_loss(model, loss, train_loader))\n",
    "    test_losses.append(count_loss(model, loss, test_loader))\n",
    "    \n",
    "    print(\"Epoch {}, acc = {}%, \".format(i + 1, accuracy[-1]))\n",
    "    \n",
    "plt.plot(accuracy, label=\"accuracy\")\n",
    "plt.legend()\n",
    "plt.show()\n",
    "\n",
    "plt.plot(train_losses, label='Train loss')\n",
    "plt.plot(test_losses, label='Test loss')\n",
    "plt.legend()\n",
    "plt.show()"
   ]
  },
  {
   "cell_type": "code",
   "execution_count": null,
   "metadata": {},
   "outputs": [],
   "source": []
  }
 ],
 "metadata": {
  "kernelspec": {
   "display_name": "Python 3",
   "language": "python",
   "name": "python3"
  },
  "language_info": {
   "codemirror_mode": {
    "name": "ipython",
    "version": 3
   },
   "file_extension": ".py",
   "mimetype": "text/x-python",
   "name": "python",
   "nbconvert_exporter": "python",
   "pygments_lexer": "ipython3",
   "version": "3.6.5"
  }
 },
 "nbformat": 4,
 "nbformat_minor": 2
}
